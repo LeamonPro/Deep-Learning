{
  "cells": [
    {
      "cell_type": "code",
      "execution_count": null,
      "metadata": {
        "id": "2Ls0XT988WLC"
      },
      "outputs": [],
      "source": [
        "import pandas as pd\n",
        "import numpy as np \n",
        "import matplotlib.pyplot as plt \n",
        "import seaborn as sns "
      ]
    },
    {
      "cell_type": "code",
      "execution_count": null,
      "metadata": {
        "id": "B5vx9EGL8ggi"
      },
      "outputs": [],
      "source": [
        "from tensorflow import keras\n",
        "from keras import optimizers\n",
        "from tensorflow.keras.datasets import mnist\n",
        "from tensorflow.keras.models import Sequential, load_model\n",
        "from tensorflow.keras.layers import Dense, Dropout, BatchNormalization, Activation\n",
        "from tensorflow.keras.utils import to_categorical\n",
        "import warnings\n",
        "warnings.filterwarnings('ignore')"
      ]
    },
    {
      "cell_type": "code",
      "execution_count": null,
      "metadata": {
        "id": "SIQTHfJ786bO"
      },
      "outputs": [],
      "source": [
        "(X_train,Y_train),(X_test,Y_test)=mnist.load_data()"
      ]
    },
    {
      "cell_type": "code",
      "execution_count": null,
      "metadata": {
        "colab": {
          "base_uri": "https://localhost:8080/"
        },
        "id": "Uu1PiaFf9U7M",
        "outputId": "53723e1b-63b2-40ee-b22b-674e4f728e1d"
      },
      "outputs": [
        {
          "name": "stdout",
          "output_type": "stream",
          "text": [
            "Dimension de X_train (60000, 28, 28)\n",
            "Dimension de Y_train (60000,)\n",
            "Dimension de X_test (10000, 28, 28)\n",
            "Dimension de Y_test (10000,)\n"
          ]
        }
      ],
      "source": [
        "print('Dimension de X_train',X_train.shape)\n",
        "print('Dimension de Y_train',Y_train.shape)\n",
        "print('Dimension de X_test',X_test.shape)\n",
        "print('Dimension de Y_test',Y_test.shape)\n"
      ]
    },
    {
      "cell_type": "code",
      "execution_count": null,
      "metadata": {
        "colab": {
          "base_uri": "https://localhost:8080/"
        },
        "id": "nmGHXghz9yT8",
        "outputId": "6cf2cf2e-b329-4e96-c994-f82a1bf82371"
      },
      "outputs": [
        {
          "data": {
            "text/plain": [
              "array([[  0,   0,   0,   0,   0,   0,   0,   0,   0,   0,   0,   0,   0,\n",
              "          0,   0,   0,   0,   0,   0,   0,   0,   0,   0,   0,   0,   0,\n",
              "          0,   0],\n",
              "       [  0,   0,   0,   0,   0,   0,   0,   0,   0,   0,   0,   0,   0,\n",
              "          0,   0,   0,   0,   0,   0,   0,   0,   0,   0,   0,   0,   0,\n",
              "          0,   0],\n",
              "       [  0,   0,   0,   0,   0,   0,   0,   0,   0,   0,   0,   0,   0,\n",
              "          0,   0,   0,   0,   0,   0,   0,   0,   0,   0,   0,   0,   0,\n",
              "          0,   0],\n",
              "       [  0,   0,   0,   0,   0,   0,   0,   0,   0,   0,   0,   0,   0,\n",
              "          0,   0,   0,   0,   0,   0,   0,   0,   0,   0,   0,   0,   0,\n",
              "          0,   0],\n",
              "       [  0,   0,   0,   0,   0,   0,   0,   0,   0,   0,   0,   0,   0,\n",
              "          0,   0,  51, 159, 253, 159,  50,   0,   0,   0,   0,   0,   0,\n",
              "          0,   0],\n",
              "       [  0,   0,   0,   0,   0,   0,   0,   0,   0,   0,   0,   0,   0,\n",
              "          0,  48, 238, 252, 252, 252, 237,   0,   0,   0,   0,   0,   0,\n",
              "          0,   0],\n",
              "       [  0,   0,   0,   0,   0,   0,   0,   0,   0,   0,   0,   0,   0,\n",
              "         54, 227, 253, 252, 239, 233, 252,  57,   6,   0,   0,   0,   0,\n",
              "          0,   0],\n",
              "       [  0,   0,   0,   0,   0,   0,   0,   0,   0,   0,   0,  10,  60,\n",
              "        224, 252, 253, 252, 202,  84, 252, 253, 122,   0,   0,   0,   0,\n",
              "          0,   0],\n",
              "       [  0,   0,   0,   0,   0,   0,   0,   0,   0,   0,   0, 163, 252,\n",
              "        252, 252, 253, 252, 252,  96, 189, 253, 167,   0,   0,   0,   0,\n",
              "          0,   0],\n",
              "       [  0,   0,   0,   0,   0,   0,   0,   0,   0,   0,  51, 238, 253,\n",
              "        253, 190, 114, 253, 228,  47,  79, 255, 168,   0,   0,   0,   0,\n",
              "          0,   0],\n",
              "       [  0,   0,   0,   0,   0,   0,   0,   0,   0,  48, 238, 252, 252,\n",
              "        179,  12,  75, 121,  21,   0,   0, 253, 243,  50,   0,   0,   0,\n",
              "          0,   0],\n",
              "       [  0,   0,   0,   0,   0,   0,   0,   0,  38, 165, 253, 233, 208,\n",
              "         84,   0,   0,   0,   0,   0,   0, 253, 252, 165,   0,   0,   0,\n",
              "          0,   0],\n",
              "       [  0,   0,   0,   0,   0,   0,   0,   7, 178, 252, 240,  71,  19,\n",
              "         28,   0,   0,   0,   0,   0,   0, 253, 252, 195,   0,   0,   0,\n",
              "          0,   0],\n",
              "       [  0,   0,   0,   0,   0,   0,   0,  57, 252, 252,  63,   0,   0,\n",
              "          0,   0,   0,   0,   0,   0,   0, 253, 252, 195,   0,   0,   0,\n",
              "          0,   0],\n",
              "       [  0,   0,   0,   0,   0,   0,   0, 198, 253, 190,   0,   0,   0,\n",
              "          0,   0,   0,   0,   0,   0,   0, 255, 253, 196,   0,   0,   0,\n",
              "          0,   0],\n",
              "       [  0,   0,   0,   0,   0,   0,  76, 246, 252, 112,   0,   0,   0,\n",
              "          0,   0,   0,   0,   0,   0,   0, 253, 252, 148,   0,   0,   0,\n",
              "          0,   0],\n",
              "       [  0,   0,   0,   0,   0,   0,  85, 252, 230,  25,   0,   0,   0,\n",
              "          0,   0,   0,   0,   0,   7, 135, 253, 186,  12,   0,   0,   0,\n",
              "          0,   0],\n",
              "       [  0,   0,   0,   0,   0,   0,  85, 252, 223,   0,   0,   0,   0,\n",
              "          0,   0,   0,   0,   7, 131, 252, 225,  71,   0,   0,   0,   0,\n",
              "          0,   0],\n",
              "       [  0,   0,   0,   0,   0,   0,  85, 252, 145,   0,   0,   0,   0,\n",
              "          0,   0,   0,  48, 165, 252, 173,   0,   0,   0,   0,   0,   0,\n",
              "          0,   0],\n",
              "       [  0,   0,   0,   0,   0,   0,  86, 253, 225,   0,   0,   0,   0,\n",
              "          0,   0, 114, 238, 253, 162,   0,   0,   0,   0,   0,   0,   0,\n",
              "          0,   0],\n",
              "       [  0,   0,   0,   0,   0,   0,  85, 252, 249, 146,  48,  29,  85,\n",
              "        178, 225, 253, 223, 167,  56,   0,   0,   0,   0,   0,   0,   0,\n",
              "          0,   0],\n",
              "       [  0,   0,   0,   0,   0,   0,  85, 252, 252, 252, 229, 215, 252,\n",
              "        252, 252, 196, 130,   0,   0,   0,   0,   0,   0,   0,   0,   0,\n",
              "          0,   0],\n",
              "       [  0,   0,   0,   0,   0,   0,  28, 199, 252, 252, 253, 252, 252,\n",
              "        233, 145,   0,   0,   0,   0,   0,   0,   0,   0,   0,   0,   0,\n",
              "          0,   0],\n",
              "       [  0,   0,   0,   0,   0,   0,   0,  25, 128, 252, 253, 252, 141,\n",
              "         37,   0,   0,   0,   0,   0,   0,   0,   0,   0,   0,   0,   0,\n",
              "          0,   0],\n",
              "       [  0,   0,   0,   0,   0,   0,   0,   0,   0,   0,   0,   0,   0,\n",
              "          0,   0,   0,   0,   0,   0,   0,   0,   0,   0,   0,   0,   0,\n",
              "          0,   0],\n",
              "       [  0,   0,   0,   0,   0,   0,   0,   0,   0,   0,   0,   0,   0,\n",
              "          0,   0,   0,   0,   0,   0,   0,   0,   0,   0,   0,   0,   0,\n",
              "          0,   0],\n",
              "       [  0,   0,   0,   0,   0,   0,   0,   0,   0,   0,   0,   0,   0,\n",
              "          0,   0,   0,   0,   0,   0,   0,   0,   0,   0,   0,   0,   0,\n",
              "          0,   0],\n",
              "       [  0,   0,   0,   0,   0,   0,   0,   0,   0,   0,   0,   0,   0,\n",
              "          0,   0,   0,   0,   0,   0,   0,   0,   0,   0,   0,   0,   0,\n",
              "          0,   0]], dtype=uint8)"
            ]
          },
          "execution_count": 34,
          "metadata": {},
          "output_type": "execute_result"
        }
      ],
      "source": [
        "X_train[1]"
      ]
    },
    {
      "cell_type": "code",
      "execution_count": null,
      "metadata": {
        "colab": {
          "base_uri": "https://localhost:8080/"
        },
        "id": "ZtzXTnF4-Y7W",
        "outputId": "20c5896e-694f-4882-b8d9-2ee6484c05f9"
      },
      "outputs": [
        {
          "data": {
            "text/plain": [
              "0"
            ]
          },
          "execution_count": 35,
          "metadata": {},
          "output_type": "execute_result"
        }
      ],
      "source": [
        "Y_train[1]"
      ]
    },
    {
      "cell_type": "code",
      "execution_count": null,
      "metadata": {
        "colab": {
          "base_uri": "https://localhost:8080/"
        },
        "id": "hMLSTM30-eZ6",
        "outputId": "bdbd8f1b-622e-437b-c090-607da78967a9"
      },
      "outputs": [
        {
          "name": "stdout",
          "output_type": "stream",
          "text": [
            "[0 1 2 3 4 5 6 7 8 9]\n"
          ]
        }
      ],
      "source": [
        "print(np.unique(Y_train))"
      ]
    },
    {
      "cell_type": "code",
      "execution_count": null,
      "metadata": {
        "id": "28xku2wM-lB_"
      },
      "outputs": [],
      "source": [
        "X_train = X_train.reshape(60000,784)\n",
        "X_test = X_test.reshape(10000,784)\n",
        "X_train = X_train.astype('float32')\n",
        "X_test = X_test.astype('float32')"
      ]
    },
    {
      "cell_type": "code",
      "execution_count": null,
      "metadata": {
        "id": "Nju6YKI__EW3"
      },
      "outputs": [],
      "source": [
        "X_train /=255\n",
        "X_test /=255"
      ]
    },
    {
      "cell_type": "code",
      "execution_count": null,
      "metadata": {
        "colab": {
          "base_uri": "https://localhost:8080/"
        },
        "id": "B5YgZ-Kv_OyW",
        "outputId": "bc79a26c-2fca-4421-ef7b-d145a91cf007"
      },
      "outputs": [
        {
          "name": "stdout",
          "output_type": "stream",
          "text": [
            "Dimension avant one-hot encoder (60000,)\n"
          ]
        }
      ],
      "source": [
        "nb_classes=10\n",
        "print('Dimension avant one-hot encoder', Y_train.shape)"
      ]
    },
    {
      "cell_type": "code",
      "execution_count": null,
      "metadata": {
        "id": "uLeKkPAK_wlZ"
      },
      "outputs": [],
      "source": [
        "Y_train=to_categorical(Y_train,nb_classes)"
      ]
    },
    {
      "cell_type": "code",
      "execution_count": null,
      "metadata": {
        "colab": {
          "base_uri": "https://localhost:8080/"
        },
        "id": "me0kbSU_ASLQ",
        "outputId": "49e9abb1-d03d-4e5f-c5c5-993a0cd3bafa"
      },
      "outputs": [
        {
          "name": "stdout",
          "output_type": "stream",
          "text": [
            "Dimension apres one-hot encoder (60000, 10)\n"
          ]
        }
      ],
      "source": [
        "print('Dimension apres one-hot encoder', Y_train.shape)"
      ]
    },
    {
      "cell_type": "code",
      "execution_count": null,
      "metadata": {
        "colab": {
          "base_uri": "https://localhost:8080/"
        },
        "id": "baLDkUxDAas0",
        "outputId": "19f2d08e-94aa-4d36-945e-75d2b9a063ca"
      },
      "outputs": [
        {
          "data": {
            "text/plain": [
              "array([1., 0., 0., 0., 0., 0., 0., 0., 0., 0.], dtype=float32)"
            ]
          },
          "execution_count": 42,
          "metadata": {},
          "output_type": "execute_result"
        }
      ],
      "source": [
        "Y_train[1]"
      ]
    },
    {
      "cell_type": "code",
      "execution_count": null,
      "metadata": {
        "id": "pPzHSndOAvLU"
      },
      "outputs": [],
      "source": [
        "model=Sequential()\n",
        "model.add(Dense(400, input_shape=(784,)))\n",
        "model.add(Activation('relu'))\n",
        "\n",
        "model.add(Dense(400))\n",
        "model.add(Activation('relu'))\n",
        "\n",
        "model.add(Dense(10))\n",
        "model.add(Activation('softmax'))"
      ]
    },
    {
      "cell_type": "code",
      "execution_count": null,
      "metadata": {
        "id": "ceMFTzrHBjzJ"
      },
      "outputs": [],
      "source": [
        "model.compile(loss='categorical_crossentropy', metrics=['accuracy'], optimizer='adam')"
      ]
    },
    {
      "cell_type": "code",
      "execution_count": null,
      "metadata": {
        "id": "j7tPv1qsCaAc"
      },
      "outputs": [],
      "source": [
        "Y_test=to_categorical(Y_test,nb_classes)"
      ]
    },
    {
      "cell_type": "code",
      "execution_count": null,
      "metadata": {
        "colab": {
          "base_uri": "https://localhost:8080/"
        },
        "id": "2BAodWc-DTdE",
        "outputId": "3eb4176b-446f-4304-a119-cbf61c9b77b9"
      },
      "outputs": [
        {
          "name": "stdout",
          "output_type": "stream",
          "text": [
            "Dimension de X_train (60000, 784)\n",
            "Dimension de Y_train (60000, 10)\n",
            "Dimension de X_test (10000, 784)\n",
            "Dimension de Y_test (10000, 10)\n"
          ]
        }
      ],
      "source": [
        "print('Dimension de X_train',X_train.shape)\n",
        "print('Dimension de Y_train',Y_train.shape)\n",
        "print('Dimension de X_test',X_test.shape)\n",
        "print('Dimension de Y_test',Y_test.shape)"
      ]
    },
    {
      "cell_type": "code",
      "execution_count": null,
      "metadata": {
        "colab": {
          "base_uri": "https://localhost:8080/"
        },
        "id": "Cs9oaqO_Cgdc",
        "outputId": "7b0ee8c9-ca35-4cb7-8c90-57fae69cdb4b"
      },
      "outputs": [
        {
          "name": "stdout",
          "output_type": "stream",
          "text": [
            "Epoch 1/100\n",
            "600/600 - 4s - loss: 0.2209 - accuracy: 0.9343 - val_loss: 0.1064 - val_accuracy: 0.9676 - 4s/epoch - 6ms/step\n",
            "Epoch 2/100\n",
            "600/600 - 2s - loss: 0.0833 - accuracy: 0.9733 - val_loss: 0.0824 - val_accuracy: 0.9723 - 2s/epoch - 3ms/step\n",
            "Epoch 3/100\n",
            "600/600 - 2s - loss: 0.0521 - accuracy: 0.9834 - val_loss: 0.0768 - val_accuracy: 0.9767 - 2s/epoch - 3ms/step\n",
            "Epoch 4/100\n",
            "600/600 - 2s - loss: 0.0389 - accuracy: 0.9874 - val_loss: 0.0783 - val_accuracy: 0.9764 - 2s/epoch - 3ms/step\n",
            "Epoch 5/100\n",
            "600/600 - 2s - loss: 0.0283 - accuracy: 0.9910 - val_loss: 0.0802 - val_accuracy: 0.9767 - 2s/epoch - 3ms/step\n",
            "Epoch 6/100\n",
            "600/600 - 2s - loss: 0.0241 - accuracy: 0.9918 - val_loss: 0.0722 - val_accuracy: 0.9811 - 2s/epoch - 3ms/step\n",
            "Epoch 7/100\n",
            "600/600 - 2s - loss: 0.0184 - accuracy: 0.9938 - val_loss: 0.0772 - val_accuracy: 0.9805 - 2s/epoch - 4ms/step\n",
            "Epoch 8/100\n",
            "600/600 - 2s - loss: 0.0215 - accuracy: 0.9931 - val_loss: 0.0854 - val_accuracy: 0.9775 - 2s/epoch - 4ms/step\n",
            "Epoch 9/100\n",
            "600/600 - 2s - loss: 0.0137 - accuracy: 0.9955 - val_loss: 0.0928 - val_accuracy: 0.9777 - 2s/epoch - 3ms/step\n",
            "Epoch 10/100\n",
            "600/600 - 2s - loss: 0.0168 - accuracy: 0.9944 - val_loss: 0.1089 - val_accuracy: 0.9764 - 2s/epoch - 3ms/step\n",
            "Epoch 11/100\n",
            "600/600 - 2s - loss: 0.0147 - accuracy: 0.9952 - val_loss: 0.0762 - val_accuracy: 0.9827 - 2s/epoch - 3ms/step\n",
            "Epoch 12/100\n",
            "600/600 - 2s - loss: 0.0112 - accuracy: 0.9960 - val_loss: 0.0843 - val_accuracy: 0.9803 - 2s/epoch - 3ms/step\n",
            "Epoch 13/100\n",
            "600/600 - 2s - loss: 0.0094 - accuracy: 0.9969 - val_loss: 0.0928 - val_accuracy: 0.9804 - 2s/epoch - 3ms/step\n",
            "Epoch 14/100\n",
            "600/600 - 3s - loss: 0.0125 - accuracy: 0.9957 - val_loss: 0.0784 - val_accuracy: 0.9834 - 3s/epoch - 4ms/step\n",
            "Epoch 15/100\n",
            "600/600 - 2s - loss: 0.0094 - accuracy: 0.9970 - val_loss: 0.0972 - val_accuracy: 0.9782 - 2s/epoch - 3ms/step\n",
            "Epoch 16/100\n",
            "600/600 - 2s - loss: 0.0087 - accuracy: 0.9971 - val_loss: 0.0962 - val_accuracy: 0.9802 - 2s/epoch - 3ms/step\n",
            "Epoch 17/100\n",
            "600/600 - 2s - loss: 0.0097 - accuracy: 0.9970 - val_loss: 0.0876 - val_accuracy: 0.9830 - 2s/epoch - 3ms/step\n",
            "Epoch 18/100\n",
            "600/600 - 2s - loss: 0.0065 - accuracy: 0.9980 - val_loss: 0.1105 - val_accuracy: 0.9790 - 2s/epoch - 3ms/step\n",
            "Epoch 19/100\n",
            "600/600 - 2s - loss: 0.0101 - accuracy: 0.9967 - val_loss: 0.0989 - val_accuracy: 0.9796 - 2s/epoch - 3ms/step\n",
            "Epoch 20/100\n",
            "600/600 - 2s - loss: 0.0085 - accuracy: 0.9972 - val_loss: 0.0919 - val_accuracy: 0.9825 - 2s/epoch - 4ms/step\n",
            "Epoch 21/100\n",
            "600/600 - 2s - loss: 0.0069 - accuracy: 0.9978 - val_loss: 0.1096 - val_accuracy: 0.9807 - 2s/epoch - 3ms/step\n",
            "Epoch 22/100\n",
            "600/600 - 2s - loss: 0.0075 - accuracy: 0.9977 - val_loss: 0.1036 - val_accuracy: 0.9823 - 2s/epoch - 3ms/step\n",
            "Epoch 23/100\n",
            "600/600 - 2s - loss: 0.0049 - accuracy: 0.9985 - val_loss: 0.0959 - val_accuracy: 0.9811 - 2s/epoch - 3ms/step\n",
            "Epoch 24/100\n",
            "600/600 - 2s - loss: 0.0078 - accuracy: 0.9976 - val_loss: 0.1023 - val_accuracy: 0.9817 - 2s/epoch - 3ms/step\n",
            "Epoch 25/100\n",
            "600/600 - 2s - loss: 0.0067 - accuracy: 0.9979 - val_loss: 0.0988 - val_accuracy: 0.9815 - 2s/epoch - 3ms/step\n",
            "Epoch 26/100\n",
            "600/600 - 2s - loss: 0.0033 - accuracy: 0.9992 - val_loss: 0.1243 - val_accuracy: 0.9794 - 2s/epoch - 4ms/step\n",
            "Epoch 27/100\n",
            "600/600 - 2s - loss: 0.0091 - accuracy: 0.9974 - val_loss: 0.1179 - val_accuracy: 0.9823 - 2s/epoch - 4ms/step\n",
            "Epoch 28/100\n",
            "600/600 - 2s - loss: 0.0030 - accuracy: 0.9991 - val_loss: 0.1100 - val_accuracy: 0.9815 - 2s/epoch - 3ms/step\n",
            "Epoch 29/100\n",
            "600/600 - 2s - loss: 0.0111 - accuracy: 0.9969 - val_loss: 0.1004 - val_accuracy: 0.9822 - 2s/epoch - 3ms/step\n",
            "Epoch 30/100\n",
            "600/600 - 2s - loss: 0.0028 - accuracy: 0.9991 - val_loss: 0.1171 - val_accuracy: 0.9818 - 2s/epoch - 3ms/step\n",
            "Epoch 31/100\n",
            "600/600 - 2s - loss: 0.0075 - accuracy: 0.9979 - val_loss: 0.1057 - val_accuracy: 0.9831 - 2s/epoch - 3ms/step\n",
            "Epoch 32/100\n",
            "600/600 - 2s - loss: 0.0028 - accuracy: 0.9991 - val_loss: 0.1551 - val_accuracy: 0.9790 - 2s/epoch - 4ms/step\n",
            "Epoch 33/100\n",
            "600/600 - 2s - loss: 0.0091 - accuracy: 0.9976 - val_loss: 0.1217 - val_accuracy: 0.9805 - 2s/epoch - 4ms/step\n",
            "Epoch 34/100\n",
            "600/600 - 2s - loss: 0.0056 - accuracy: 0.9983 - val_loss: 0.1195 - val_accuracy: 0.9813 - 2s/epoch - 3ms/step\n",
            "Epoch 35/100\n",
            "600/600 - 2s - loss: 0.0031 - accuracy: 0.9993 - val_loss: 0.1033 - val_accuracy: 0.9826 - 2s/epoch - 3ms/step\n",
            "Epoch 36/100\n",
            "600/600 - 2s - loss: 0.0033 - accuracy: 0.9989 - val_loss: 0.1296 - val_accuracy: 0.9811 - 2s/epoch - 3ms/step\n",
            "Epoch 37/100\n",
            "600/600 - 2s - loss: 0.0088 - accuracy: 0.9975 - val_loss: 0.1151 - val_accuracy: 0.9814 - 2s/epoch - 3ms/step\n",
            "Epoch 38/100\n",
            "600/600 - 2s - loss: 0.0053 - accuracy: 0.9986 - val_loss: 0.1008 - val_accuracy: 0.9856 - 2s/epoch - 3ms/step\n",
            "Epoch 39/100\n",
            "600/600 - 3s - loss: 0.0035 - accuracy: 0.9990 - val_loss: 0.1156 - val_accuracy: 0.9846 - 3s/epoch - 4ms/step\n",
            "Epoch 40/100\n",
            "600/600 - 2s - loss: 0.0076 - accuracy: 0.9981 - val_loss: 0.1223 - val_accuracy: 0.9834 - 2s/epoch - 3ms/step\n",
            "Epoch 41/100\n",
            "600/600 - 2s - loss: 0.0034 - accuracy: 0.9991 - val_loss: 0.1216 - val_accuracy: 0.9832 - 2s/epoch - 3ms/step\n",
            "Epoch 42/100\n",
            "600/600 - 2s - loss: 0.0041 - accuracy: 0.9986 - val_loss: 0.1236 - val_accuracy: 0.9832 - 2s/epoch - 3ms/step\n",
            "Epoch 43/100\n",
            "600/600 - 2s - loss: 0.0043 - accuracy: 0.9988 - val_loss: 0.1281 - val_accuracy: 0.9834 - 2s/epoch - 3ms/step\n",
            "Epoch 44/100\n",
            "600/600 - 2s - loss: 0.0032 - accuracy: 0.9991 - val_loss: 0.1306 - val_accuracy: 0.9820 - 2s/epoch - 3ms/step\n",
            "Epoch 45/100\n",
            "600/600 - 3s - loss: 0.0034 - accuracy: 0.9990 - val_loss: 0.1590 - val_accuracy: 0.9810 - 3s/epoch - 4ms/step\n",
            "Epoch 46/100\n",
            "600/600 - 2s - loss: 0.0059 - accuracy: 0.9984 - val_loss: 0.1452 - val_accuracy: 0.9817 - 2s/epoch - 4ms/step\n",
            "Epoch 47/100\n",
            "600/600 - 2s - loss: 0.0030 - accuracy: 0.9989 - val_loss: 0.1260 - val_accuracy: 0.9847 - 2s/epoch - 3ms/step\n",
            "Epoch 48/100\n",
            "600/600 - 2s - loss: 0.0034 - accuracy: 0.9991 - val_loss: 0.1447 - val_accuracy: 0.9826 - 2s/epoch - 3ms/step\n",
            "Epoch 49/100\n",
            "600/600 - 2s - loss: 0.0056 - accuracy: 0.9984 - val_loss: 0.1443 - val_accuracy: 0.9824 - 2s/epoch - 3ms/step\n",
            "Epoch 50/100\n",
            "600/600 - 2s - loss: 0.0053 - accuracy: 0.9985 - val_loss: 0.1472 - val_accuracy: 0.9830 - 2s/epoch - 3ms/step\n",
            "Epoch 51/100\n",
            "600/600 - 2s - loss: 0.0025 - accuracy: 0.9992 - val_loss: 0.1806 - val_accuracy: 0.9831 - 2s/epoch - 3ms/step\n",
            "Epoch 52/100\n",
            "600/600 - 2s - loss: 0.0049 - accuracy: 0.9988 - val_loss: 0.1565 - val_accuracy: 0.9814 - 2s/epoch - 4ms/step\n",
            "Epoch 53/100\n",
            "600/600 - 2s - loss: 0.0035 - accuracy: 0.9990 - val_loss: 0.1428 - val_accuracy: 0.9844 - 2s/epoch - 3ms/step\n",
            "Epoch 54/100\n",
            "600/600 - 2s - loss: 0.0042 - accuracy: 0.9990 - val_loss: 0.1533 - val_accuracy: 0.9832 - 2s/epoch - 3ms/step\n",
            "Epoch 55/100\n",
            "600/600 - 2s - loss: 0.0041 - accuracy: 0.9988 - val_loss: 0.1597 - val_accuracy: 0.9833 - 2s/epoch - 3ms/step\n",
            "Epoch 56/100\n",
            "600/600 - 2s - loss: 0.0058 - accuracy: 0.9986 - val_loss: 0.1541 - val_accuracy: 0.9824 - 2s/epoch - 3ms/step\n",
            "Epoch 57/100\n",
            "600/600 - 2s - loss: 0.0049 - accuracy: 0.9990 - val_loss: 0.1478 - val_accuracy: 0.9849 - 2s/epoch - 3ms/step\n",
            "Epoch 58/100\n",
            "600/600 - 2s - loss: 0.0017 - accuracy: 0.9996 - val_loss: 0.1696 - val_accuracy: 0.9820 - 2s/epoch - 4ms/step\n",
            "Epoch 59/100\n",
            "600/600 - 2s - loss: 0.0048 - accuracy: 0.9987 - val_loss: 0.1698 - val_accuracy: 0.9827 - 2s/epoch - 3ms/step\n",
            "Epoch 60/100\n",
            "600/600 - 2s - loss: 0.0051 - accuracy: 0.9985 - val_loss: 0.1600 - val_accuracy: 0.9844 - 2s/epoch - 3ms/step\n",
            "Epoch 61/100\n",
            "600/600 - 2s - loss: 0.0052 - accuracy: 0.9988 - val_loss: 0.1788 - val_accuracy: 0.9816 - 2s/epoch - 3ms/step\n",
            "Epoch 62/100\n",
            "600/600 - 2s - loss: 0.0039 - accuracy: 0.9988 - val_loss: 0.1690 - val_accuracy: 0.9819 - 2s/epoch - 4ms/step\n",
            "Epoch 63/100\n",
            "600/600 - 2s - loss: 0.0031 - accuracy: 0.9993 - val_loss: 0.1820 - val_accuracy: 0.9825 - 2s/epoch - 3ms/step\n",
            "Epoch 64/100\n",
            "600/600 - 3s - loss: 0.0034 - accuracy: 0.9991 - val_loss: 0.1505 - val_accuracy: 0.9840 - 3s/epoch - 4ms/step\n",
            "Epoch 65/100\n",
            "600/600 - 2s - loss: 0.0029 - accuracy: 0.9993 - val_loss: 0.1762 - val_accuracy: 0.9822 - 2s/epoch - 3ms/step\n",
            "Epoch 66/100\n",
            "600/600 - 2s - loss: 0.0046 - accuracy: 0.9990 - val_loss: 0.1666 - val_accuracy: 0.9837 - 2s/epoch - 3ms/step\n",
            "Epoch 67/100\n",
            "600/600 - 2s - loss: 0.0031 - accuracy: 0.9993 - val_loss: 0.1572 - val_accuracy: 0.9834 - 2s/epoch - 3ms/step\n",
            "Epoch 68/100\n",
            "600/600 - 2s - loss: 0.0024 - accuracy: 0.9995 - val_loss: 0.1522 - val_accuracy: 0.9843 - 2s/epoch - 3ms/step\n",
            "Epoch 69/100\n",
            "600/600 - 2s - loss: 0.0060 - accuracy: 0.9985 - val_loss: 0.1686 - val_accuracy: 0.9830 - 2s/epoch - 3ms/step\n",
            "Epoch 70/100\n",
            "600/600 - 2s - loss: 0.0048 - accuracy: 0.9988 - val_loss: 0.2024 - val_accuracy: 0.9816 - 2s/epoch - 4ms/step\n",
            "Epoch 71/100\n",
            "600/600 - 2s - loss: 0.0048 - accuracy: 0.9988 - val_loss: 0.1721 - val_accuracy: 0.9818 - 2s/epoch - 3ms/step\n",
            "Epoch 72/100\n",
            "600/600 - 2s - loss: 0.0032 - accuracy: 0.9990 - val_loss: 0.1631 - val_accuracy: 0.9845 - 2s/epoch - 3ms/step\n",
            "Epoch 73/100\n",
            "600/600 - 2s - loss: 0.0031 - accuracy: 0.9993 - val_loss: 0.1585 - val_accuracy: 0.9845 - 2s/epoch - 3ms/step\n",
            "Epoch 74/100\n",
            "600/600 - 2s - loss: 0.0039 - accuracy: 0.9989 - val_loss: 0.1606 - val_accuracy: 0.9827 - 2s/epoch - 3ms/step\n",
            "Epoch 75/100\n",
            "600/600 - 2s - loss: 0.0039 - accuracy: 0.9991 - val_loss: 0.1637 - val_accuracy: 0.9840 - 2s/epoch - 3ms/step\n",
            "Epoch 76/100\n",
            "600/600 - 2s - loss: 0.0047 - accuracy: 0.9988 - val_loss: 0.1845 - val_accuracy: 0.9832 - 2s/epoch - 3ms/step\n",
            "Epoch 77/100\n",
            "600/600 - 2s - loss: 0.0059 - accuracy: 0.9986 - val_loss: 0.1801 - val_accuracy: 0.9842 - 2s/epoch - 4ms/step\n",
            "Epoch 78/100\n",
            "600/600 - 2s - loss: 0.0022 - accuracy: 0.9995 - val_loss: 0.1559 - val_accuracy: 0.9846 - 2s/epoch - 3ms/step\n",
            "Epoch 79/100\n",
            "600/600 - 2s - loss: 0.0025 - accuracy: 0.9995 - val_loss: 0.1729 - val_accuracy: 0.9829 - 2s/epoch - 3ms/step\n",
            "Epoch 80/100\n",
            "600/600 - 2s - loss: 0.0044 - accuracy: 0.9991 - val_loss: 0.1940 - val_accuracy: 0.9844 - 2s/epoch - 3ms/step\n",
            "Epoch 81/100\n",
            "600/600 - 2s - loss: 0.0044 - accuracy: 0.9992 - val_loss: 0.2124 - val_accuracy: 0.9813 - 2s/epoch - 3ms/step\n",
            "Epoch 82/100\n",
            "600/600 - 2s - loss: 0.0029 - accuracy: 0.9992 - val_loss: 0.1820 - val_accuracy: 0.9835 - 2s/epoch - 3ms/step\n",
            "Epoch 83/100\n",
            "600/600 - 3s - loss: 0.0040 - accuracy: 0.9992 - val_loss: 0.1703 - val_accuracy: 0.9839 - 3s/epoch - 4ms/step\n",
            "Epoch 84/100\n",
            "600/600 - 2s - loss: 0.0022 - accuracy: 0.9994 - val_loss: 0.2119 - val_accuracy: 0.9813 - 2s/epoch - 3ms/step\n",
            "Epoch 85/100\n",
            "600/600 - 2s - loss: 0.0017 - accuracy: 0.9996 - val_loss: 0.1946 - val_accuracy: 0.9839 - 2s/epoch - 3ms/step\n",
            "Epoch 86/100\n",
            "600/600 - 2s - loss: 0.0023 - accuracy: 0.9994 - val_loss: 0.2024 - val_accuracy: 0.9833 - 2s/epoch - 3ms/step\n",
            "Epoch 87/100\n",
            "600/600 - 2s - loss: 0.0057 - accuracy: 0.9989 - val_loss: 0.1918 - val_accuracy: 0.9839 - 2s/epoch - 3ms/step\n",
            "Epoch 88/100\n",
            "600/600 - 2s - loss: 0.0042 - accuracy: 0.9989 - val_loss: 0.2376 - val_accuracy: 0.9819 - 2s/epoch - 3ms/step\n",
            "Epoch 89/100\n",
            "600/600 - 2s - loss: 0.0063 - accuracy: 0.9989 - val_loss: 0.2088 - val_accuracy: 0.9836 - 2s/epoch - 4ms/step\n",
            "Epoch 90/100\n",
            "600/600 - 2s - loss: 0.0036 - accuracy: 0.9992 - val_loss: 0.2110 - val_accuracy: 0.9843 - 2s/epoch - 3ms/step\n",
            "Epoch 91/100\n",
            "600/600 - 2s - loss: 0.0021 - accuracy: 0.9994 - val_loss: 0.2177 - val_accuracy: 0.9836 - 2s/epoch - 3ms/step\n",
            "Epoch 92/100\n",
            "600/600 - 2s - loss: 0.0027 - accuracy: 0.9996 - val_loss: 0.1929 - val_accuracy: 0.9845 - 2s/epoch - 3ms/step\n",
            "Epoch 93/100\n",
            "600/600 - 2s - loss: 0.0038 - accuracy: 0.9994 - val_loss: 0.2133 - val_accuracy: 0.9845 - 2s/epoch - 3ms/step\n",
            "Epoch 94/100\n",
            "600/600 - 2s - loss: 0.0050 - accuracy: 0.9989 - val_loss: 0.2080 - val_accuracy: 0.9834 - 2s/epoch - 3ms/step\n",
            "Epoch 95/100\n",
            "600/600 - 2s - loss: 0.0014 - accuracy: 0.9997 - val_loss: 0.2418 - val_accuracy: 0.9819 - 2s/epoch - 4ms/step\n",
            "Epoch 96/100\n",
            "600/600 - 2s - loss: 0.0051 - accuracy: 0.9990 - val_loss: 0.1875 - val_accuracy: 0.9854 - 2s/epoch - 4ms/step\n",
            "Epoch 97/100\n",
            "600/600 - 2s - loss: 0.0035 - accuracy: 0.9994 - val_loss: 0.1972 - val_accuracy: 0.9839 - 2s/epoch - 3ms/step\n",
            "Epoch 98/100\n",
            "600/600 - 2s - loss: 0.0019 - accuracy: 0.9997 - val_loss: 0.2540 - val_accuracy: 0.9834 - 2s/epoch - 3ms/step\n",
            "Epoch 99/100\n",
            "600/600 - 2s - loss: 0.0059 - accuracy: 0.9990 - val_loss: 0.2304 - val_accuracy: 0.9823 - 2s/epoch - 3ms/step\n",
            "Epoch 100/100\n",
            "600/600 - 2s - loss: 0.0069 - accuracy: 0.9988 - val_loss: 0.2221 - val_accuracy: 0.9835 - 2s/epoch - 3ms/step\n"
          ]
        }
      ],
      "source": [
        "history= model.fit(X_train, Y_train,\n",
        "                batch_size=100,\n",
        "                epochs=100,\n",
        "                verbose=2,\n",
        "                validation_data=(X_test,Y_test))"
      ]
    },
    {
      "cell_type": "code",
      "execution_count": null,
      "metadata": {
        "colab": {
          "base_uri": "https://localhost:8080/"
        },
        "id": "pgKmWrUZC0Ho",
        "outputId": "58bc1ebc-e5cf-45db-974c-106580f5a8a7"
      },
      "outputs": [
        {
          "name": "stdout",
          "output_type": "stream",
          "text": [
            "Model: \"sequential_3\"\n",
            "_________________________________________________________________\n",
            " Layer (type)                Output Shape              Param #   \n",
            "=================================================================\n",
            " dense_9 (Dense)             (None, 400)               314000    \n",
            "                                                                 \n",
            " activation_9 (Activation)   (None, 400)               0         \n",
            "                                                                 \n",
            " dense_10 (Dense)            (None, 400)               160400    \n",
            "                                                                 \n",
            " activation_10 (Activation)  (None, 400)               0         \n",
            "                                                                 \n",
            " dense_11 (Dense)            (None, 10)                4010      \n",
            "                                                                 \n",
            " activation_11 (Activation)  (None, 10)                0         \n",
            "                                                                 \n",
            "=================================================================\n",
            "Total params: 478,410\n",
            "Trainable params: 478,410\n",
            "Non-trainable params: 0\n",
            "_________________________________________________________________\n"
          ]
        }
      ],
      "source": [
        "model.summary()\n"
      ]
    },
    {
      "cell_type": "code",
      "execution_count": null,
      "metadata": {
        "colab": {
          "base_uri": "https://localhost:8080/",
          "height": 312
        },
        "id": "qCgio6daGeOF",
        "outputId": "5236f64a-4d17-488a-93fa-4069b38f69a2"
      },
      "outputs": [
        {
          "data": {
            "text/plain": [
              "<matplotlib.legend.Legend at 0x7f66a6131d00>"
            ]
          },
          "execution_count": 49,
          "metadata": {},
          "output_type": "execute_result"
        },
        {
          "data": {
            "image/png": "[encoded data removed]",
            "text/plain": [
              "<Figure size 432x288 with 1 Axes>"
            ]
          },
          "metadata": {
            "needs_background": "light"
          },
          "output_type": "display_data"
        }
      ],
      "source": [
        "val_acc=history.history['val_accuracy']\n",
        "acc=history.history['accuracy']\n",
        "epochs=range(1,len(acc)+1)\n",
        "plt.plot(epochs,acc,'b')\n",
        "plt.plot(epochs, val_acc, 'r-')\n",
        "plt.title('Model Accuracy')\n",
        "plt.xlabel('Epochs')\n",
        "plt.ylabel('Accuracy')\n",
        "plt.legend(['Train','validation'])"
      ]
    },
    {
      "cell_type": "code",
      "execution_count": null,
      "metadata": {
        "colab": {
          "base_uri": "https://localhost:8080/",
          "height": 312
        },
        "id": "v15Q5cE3G9On",
        "outputId": "f830440a-df82-41ec-9a9b-ec92e95961b1"
      },
      "outputs": [
        {
          "data": {
            "text/plain": [
              "<matplotlib.legend.Legend at 0x7f66a60fcb80>"
            ]
          },
          "execution_count": 50,
          "metadata": {},
          "output_type": "execute_result"
        },
        {
          "data": {
            "image/png": "[encoded data removed]",
            "text/plain": [
              "<Figure size 432x288 with 1 Axes>"
            ]
          },
          "metadata": {
            "needs_background": "light"
          },
          "output_type": "display_data"
        }
      ],
      "source": [
        "plt.plot(history.history['loss'])\n",
        "plt.plot(history.history['val_loss'])\n",
        "plt.title(\"model loss\")\n",
        "plt.ylabel(\"loss\")\n",
        "plt.xlabel(\"epoch\")\n",
        "plt.legend(['train','validation'],loc='upper left')"
      ]
    },
    {
      "cell_type": "code",
      "execution_count": null,
      "metadata": {
        "id": "L1lbFIklHJVv"
      },
      "outputs": [],
      "source": [
        "model1=Sequential()\n",
        "model1.add(Dense(512, input_shape=(784,)))\n",
        "model1.add(Activation('relu'))\n",
        "model1.add(Dropout(0.2))\n",
        "\n",
        "model1.add(Dense(512))\n",
        "model1.add(Activation('relu'))\n",
        "model1.add(Dropout(0.2))\n",
        "\n",
        "model1.add(Dense(10))\n",
        "model1.add(Activation('softmax'))\n"
      ]
    },
    {
      "cell_type": "code",
      "execution_count": null,
      "metadata": {
        "id": "TWNIMRZGI-PN"
      },
      "outputs": [],
      "source": [
        "model1.compile(loss='categorical_crossentropy', metrics=['accuracy'], optimizer='adam')"
      ]
    },
    {
      "cell_type": "code",
      "execution_count": null,
      "metadata": {
        "colab": {
          "base_uri": "https://localhost:8080/"
        },
        "id": "LQG5LVQCJBx-",
        "outputId": "fbf27176-c2d7-48da-ba7e-b6e675dc9b9d"
      },
      "outputs": [
        {
          "name": "stdout",
          "output_type": "stream",
          "text": [
            "Epoch 1/100\n",
            "600/600 - 3s - loss: 0.2357 - accuracy: 0.9303 - val_loss: 0.1045 - val_accuracy: 0.9674 - 3s/epoch - 5ms/step\n",
            "Epoch 2/100\n",
            "600/600 - 2s - loss: 0.0988 - accuracy: 0.9690 - val_loss: 0.0807 - val_accuracy: 0.9753 - 2s/epoch - 3ms/step\n",
            "Epoch 3/100\n",
            "600/600 - 2s - loss: 0.0721 - accuracy: 0.9773 - val_loss: 0.0693 - val_accuracy: 0.9787 - 2s/epoch - 3ms/step\n",
            "Epoch 4/100\n",
            "600/600 - 2s - loss: 0.0573 - accuracy: 0.9818 - val_loss: 0.0622 - val_accuracy: 0.9800 - 2s/epoch - 4ms/step\n",
            "Epoch 5/100\n",
            "600/600 - 2s - loss: 0.0463 - accuracy: 0.9852 - val_loss: 0.0618 - val_accuracy: 0.9819 - 2s/epoch - 4ms/step\n",
            "Epoch 6/100\n",
            "600/600 - 2s - loss: 0.0405 - accuracy: 0.9864 - val_loss: 0.0670 - val_accuracy: 0.9810 - 2s/epoch - 3ms/step\n",
            "Epoch 7/100\n",
            "600/600 - 2s - loss: 0.0333 - accuracy: 0.9889 - val_loss: 0.0658 - val_accuracy: 0.9819 - 2s/epoch - 3ms/step\n",
            "Epoch 8/100\n",
            "600/600 - 2s - loss: 0.0322 - accuracy: 0.9893 - val_loss: 0.0627 - val_accuracy: 0.9827 - 2s/epoch - 3ms/step\n",
            "Epoch 9/100\n",
            "600/600 - 2s - loss: 0.0289 - accuracy: 0.9902 - val_loss: 0.0735 - val_accuracy: 0.9816 - 2s/epoch - 3ms/step\n",
            "Epoch 10/100\n",
            "600/600 - 2s - loss: 0.0288 - accuracy: 0.9909 - val_loss: 0.0569 - val_accuracy: 0.9837 - 2s/epoch - 3ms/step\n",
            "Epoch 11/100\n",
            "600/600 - 2s - loss: 0.0231 - accuracy: 0.9922 - val_loss: 0.0709 - val_accuracy: 0.9824 - 2s/epoch - 4ms/step\n",
            "Epoch 12/100\n",
            "600/600 - 2s - loss: 0.0227 - accuracy: 0.9927 - val_loss: 0.0666 - val_accuracy: 0.9839 - 2s/epoch - 3ms/step\n",
            "Epoch 13/100\n",
            "600/600 - 2s - loss: 0.0218 - accuracy: 0.9928 - val_loss: 0.0773 - val_accuracy: 0.9817 - 2s/epoch - 3ms/step\n",
            "Epoch 14/100\n",
            "600/600 - 2s - loss: 0.0204 - accuracy: 0.9931 - val_loss: 0.0805 - val_accuracy: 0.9823 - 2s/epoch - 3ms/step\n",
            "Epoch 15/100\n",
            "600/600 - 2s - loss: 0.0203 - accuracy: 0.9935 - val_loss: 0.0629 - val_accuracy: 0.9861 - 2s/epoch - 3ms/step\n",
            "Epoch 16/100\n",
            "600/600 - 2s - loss: 0.0181 - accuracy: 0.9939 - val_loss: 0.0698 - val_accuracy: 0.9849 - 2s/epoch - 3ms/step\n",
            "Epoch 17/100\n",
            "600/600 - 3s - loss: 0.0195 - accuracy: 0.9936 - val_loss: 0.0832 - val_accuracy: 0.9830 - 3s/epoch - 4ms/step\n",
            "Epoch 18/100\n",
            "600/600 - 2s - loss: 0.0172 - accuracy: 0.9948 - val_loss: 0.0803 - val_accuracy: 0.9843 - 2s/epoch - 3ms/step\n",
            "Epoch 19/100\n",
            "600/600 - 2s - loss: 0.0178 - accuracy: 0.9941 - val_loss: 0.0800 - val_accuracy: 0.9851 - 2s/epoch - 3ms/step\n",
            "Epoch 20/100\n",
            "600/600 - 2s - loss: 0.0180 - accuracy: 0.9943 - val_loss: 0.0765 - val_accuracy: 0.9825 - 2s/epoch - 3ms/step\n",
            "Epoch 21/100\n",
            "600/600 - 2s - loss: 0.0145 - accuracy: 0.9952 - val_loss: 0.0916 - val_accuracy: 0.9804 - 2s/epoch - 3ms/step\n",
            "Epoch 22/100\n",
            "600/600 - 2s - loss: 0.0153 - accuracy: 0.9953 - val_loss: 0.0909 - val_accuracy: 0.9822 - 2s/epoch - 3ms/step\n",
            "Epoch 23/100\n",
            "600/600 - 3s - loss: 0.0146 - accuracy: 0.9951 - val_loss: 0.0883 - val_accuracy: 0.9825 - 3s/epoch - 4ms/step\n",
            "Epoch 24/100\n",
            "600/600 - 2s - loss: 0.0158 - accuracy: 0.9948 - val_loss: 0.0866 - val_accuracy: 0.9816 - 2s/epoch - 3ms/step\n",
            "Epoch 25/100\n",
            "600/600 - 2s - loss: 0.0134 - accuracy: 0.9959 - val_loss: 0.0898 - val_accuracy: 0.9836 - 2s/epoch - 3ms/step\n",
            "Epoch 26/100\n",
            "600/600 - 2s - loss: 0.0138 - accuracy: 0.9958 - val_loss: 0.0847 - val_accuracy: 0.9842 - 2s/epoch - 3ms/step\n",
            "Epoch 27/100\n",
            "600/600 - 2s - loss: 0.0128 - accuracy: 0.9961 - val_loss: 0.0847 - val_accuracy: 0.9837 - 2s/epoch - 3ms/step\n",
            "Epoch 28/100\n",
            "600/600 - 2s - loss: 0.0133 - accuracy: 0.9959 - val_loss: 0.0954 - val_accuracy: 0.9829 - 2s/epoch - 3ms/step\n",
            "Epoch 29/100\n",
            "600/600 - 2s - loss: 0.0135 - accuracy: 0.9958 - val_loss: 0.0906 - val_accuracy: 0.9824 - 2s/epoch - 4ms/step\n",
            "Epoch 30/100\n",
            "600/600 - 2s - loss: 0.0139 - accuracy: 0.9959 - val_loss: 0.0916 - val_accuracy: 0.9853 - 2s/epoch - 3ms/step\n",
            "Epoch 31/100\n",
            "600/600 - 2s - loss: 0.0118 - accuracy: 0.9966 - val_loss: 0.1023 - val_accuracy: 0.9838 - 2s/epoch - 3ms/step\n",
            "Epoch 32/100\n",
            "600/600 - 2s - loss: 0.0139 - accuracy: 0.9955 - val_loss: 0.1059 - val_accuracy: 0.9823 - 2s/epoch - 3ms/step\n",
            "Epoch 33/100\n",
            "600/600 - 2s - loss: 0.0103 - accuracy: 0.9966 - val_loss: 0.0859 - val_accuracy: 0.9853 - 2s/epoch - 3ms/step\n",
            "Epoch 34/100\n",
            "600/600 - 2s - loss: 0.0103 - accuracy: 0.9967 - val_loss: 0.1032 - val_accuracy: 0.9838 - 2s/epoch - 3ms/step\n",
            "Epoch 35/100\n",
            "600/600 - 2s - loss: 0.0153 - accuracy: 0.9959 - val_loss: 0.0903 - val_accuracy: 0.9864 - 2s/epoch - 4ms/step\n",
            "Epoch 36/100\n",
            "600/600 - 2s - loss: 0.0122 - accuracy: 0.9968 - val_loss: 0.1054 - val_accuracy: 0.9843 - 2s/epoch - 4ms/step\n",
            "Epoch 37/100\n",
            "600/600 - 2s - loss: 0.0118 - accuracy: 0.9966 - val_loss: 0.1029 - val_accuracy: 0.9839 - 2s/epoch - 3ms/step\n",
            "Epoch 38/100\n",
            "600/600 - 2s - loss: 0.0106 - accuracy: 0.9968 - val_loss: 0.1054 - val_accuracy: 0.9845 - 2s/epoch - 3ms/step\n",
            "Epoch 39/100\n",
            "600/600 - 2s - loss: 0.0114 - accuracy: 0.9967 - val_loss: 0.1164 - val_accuracy: 0.9826 - 2s/epoch - 3ms/step\n",
            "Epoch 40/100\n",
            "600/600 - 2s - loss: 0.0156 - accuracy: 0.9959 - val_loss: 0.1010 - val_accuracy: 0.9841 - 2s/epoch - 3ms/step\n",
            "Epoch 41/100\n",
            "600/600 - 2s - loss: 0.0124 - accuracy: 0.9966 - val_loss: 0.1098 - val_accuracy: 0.9840 - 2s/epoch - 3ms/step\n",
            "Epoch 42/100\n",
            "600/600 - 2s - loss: 0.0116 - accuracy: 0.9969 - val_loss: 0.1053 - val_accuracy: 0.9844 - 2s/epoch - 4ms/step\n",
            "Epoch 43/100\n",
            "600/600 - 2s - loss: 0.0080 - accuracy: 0.9976 - val_loss: 0.0947 - val_accuracy: 0.9842 - 2s/epoch - 3ms/step\n",
            "Epoch 44/100\n",
            "600/600 - 2s - loss: 0.0106 - accuracy: 0.9969 - val_loss: 0.1026 - val_accuracy: 0.9846 - 2s/epoch - 3ms/step\n",
            "Epoch 45/100\n",
            "600/600 - 2s - loss: 0.0101 - accuracy: 0.9970 - val_loss: 0.1123 - val_accuracy: 0.9828 - 2s/epoch - 3ms/step\n",
            "Epoch 46/100\n",
            "600/600 - 2s - loss: 0.0158 - accuracy: 0.9960 - val_loss: 0.1052 - val_accuracy: 0.9846 - 2s/epoch - 3ms/step\n",
            "Epoch 47/100\n",
            "600/600 - 2s - loss: 0.0100 - accuracy: 0.9972 - val_loss: 0.1150 - val_accuracy: 0.9839 - 2s/epoch - 3ms/step\n",
            "Epoch 48/100\n",
            "600/600 - 2s - loss: 0.0108 - accuracy: 0.9971 - val_loss: 0.1124 - val_accuracy: 0.9847 - 2s/epoch - 4ms/step\n",
            "Epoch 49/100\n",
            "600/600 - 2s - loss: 0.0110 - accuracy: 0.9968 - val_loss: 0.1146 - val_accuracy: 0.9832 - 2s/epoch - 3ms/step\n",
            "Epoch 50/100\n",
            "600/600 - 2s - loss: 0.0101 - accuracy: 0.9973 - val_loss: 0.1209 - val_accuracy: 0.9849 - 2s/epoch - 3ms/step\n",
            "Epoch 51/100\n",
            "600/600 - 2s - loss: 0.0112 - accuracy: 0.9968 - val_loss: 0.1163 - val_accuracy: 0.9845 - 2s/epoch - 3ms/step\n",
            "Epoch 52/100\n",
            "600/600 - 2s - loss: 0.0098 - accuracy: 0.9972 - val_loss: 0.1338 - val_accuracy: 0.9831 - 2s/epoch - 3ms/step\n",
            "Epoch 53/100\n",
            "600/600 - 2s - loss: 0.0104 - accuracy: 0.9974 - val_loss: 0.1219 - val_accuracy: 0.9838 - 2s/epoch - 3ms/step\n",
            "Epoch 54/100\n",
            "600/600 - 3s - loss: 0.0139 - accuracy: 0.9966 - val_loss: 0.1209 - val_accuracy: 0.9838 - 3s/epoch - 4ms/step\n",
            "Epoch 55/100\n",
            "600/600 - 2s - loss: 0.0098 - accuracy: 0.9974 - val_loss: 0.1136 - val_accuracy: 0.9837 - 2s/epoch - 3ms/step\n",
            "Epoch 56/100\n",
            "600/600 - 2s - loss: 0.0082 - accuracy: 0.9977 - val_loss: 0.1186 - val_accuracy: 0.9850 - 2s/epoch - 3ms/step\n",
            "Epoch 57/100\n",
            "600/600 - 2s - loss: 0.0085 - accuracy: 0.9977 - val_loss: 0.1217 - val_accuracy: 0.9837 - 2s/epoch - 3ms/step\n",
            "Epoch 58/100\n",
            "600/600 - 2s - loss: 0.0110 - accuracy: 0.9972 - val_loss: 0.1119 - val_accuracy: 0.9838 - 2s/epoch - 3ms/step\n",
            "Epoch 59/100\n",
            "600/600 - 2s - loss: 0.0076 - accuracy: 0.9979 - val_loss: 0.1287 - val_accuracy: 0.9853 - 2s/epoch - 3ms/step\n",
            "Epoch 60/100\n",
            "600/600 - 3s - loss: 0.0075 - accuracy: 0.9977 - val_loss: 0.1345 - val_accuracy: 0.9839 - 3s/epoch - 4ms/step\n",
            "Epoch 61/100\n",
            "600/600 - 2s - loss: 0.0083 - accuracy: 0.9977 - val_loss: 0.1259 - val_accuracy: 0.9837 - 2s/epoch - 3ms/step\n",
            "Epoch 62/100\n",
            "600/600 - 2s - loss: 0.0123 - accuracy: 0.9968 - val_loss: 0.1285 - val_accuracy: 0.9833 - 2s/epoch - 3ms/step\n",
            "Epoch 63/100\n",
            "600/600 - 2s - loss: 0.0100 - accuracy: 0.9974 - val_loss: 0.1145 - val_accuracy: 0.9834 - 2s/epoch - 3ms/step\n",
            "Epoch 64/100\n",
            "600/600 - 2s - loss: 0.0115 - accuracy: 0.9972 - val_loss: 0.1287 - val_accuracy: 0.9855 - 2s/epoch - 3ms/step\n",
            "Epoch 65/100\n",
            "600/600 - 2s - loss: 0.0083 - accuracy: 0.9976 - val_loss: 0.1273 - val_accuracy: 0.9838 - 2s/epoch - 3ms/step\n",
            "Epoch 66/100\n",
            "600/600 - 3s - loss: 0.0095 - accuracy: 0.9975 - val_loss: 0.1443 - val_accuracy: 0.9825 - 3s/epoch - 4ms/step\n",
            "Epoch 67/100\n",
            "600/600 - 2s - loss: 0.0080 - accuracy: 0.9979 - val_loss: 0.1324 - val_accuracy: 0.9834 - 2s/epoch - 3ms/step\n",
            "Epoch 68/100\n",
            "600/600 - 2s - loss: 0.0118 - accuracy: 0.9971 - val_loss: 0.1323 - val_accuracy: 0.9846 - 2s/epoch - 3ms/step\n",
            "Epoch 69/100\n",
            "600/600 - 2s - loss: 0.0131 - accuracy: 0.9971 - val_loss: 0.1159 - val_accuracy: 0.9859 - 2s/epoch - 3ms/step\n",
            "Epoch 70/100\n",
            "600/600 - 2s - loss: 0.0101 - accuracy: 0.9973 - val_loss: 0.1207 - val_accuracy: 0.9861 - 2s/epoch - 3ms/step\n",
            "Epoch 71/100\n",
            "600/600 - 2s - loss: 0.0093 - accuracy: 0.9979 - val_loss: 0.1313 - val_accuracy: 0.9861 - 2s/epoch - 3ms/step\n",
            "Epoch 72/100\n",
            "600/600 - 3s - loss: 0.0097 - accuracy: 0.9974 - val_loss: 0.1332 - val_accuracy: 0.9848 - 3s/epoch - 4ms/step\n",
            "Epoch 73/100\n",
            "600/600 - 2s - loss: 0.0091 - accuracy: 0.9977 - val_loss: 0.1259 - val_accuracy: 0.9868 - 2s/epoch - 3ms/step\n",
            "Epoch 74/100\n",
            "600/600 - 2s - loss: 0.0093 - accuracy: 0.9978 - val_loss: 0.1387 - val_accuracy: 0.9856 - 2s/epoch - 3ms/step\n",
            "Epoch 75/100\n",
            "600/600 - 2s - loss: 0.0097 - accuracy: 0.9978 - val_loss: 0.1428 - val_accuracy: 0.9844 - 2s/epoch - 3ms/step\n",
            "Epoch 76/100\n",
            "600/600 - 2s - loss: 0.0087 - accuracy: 0.9977 - val_loss: 0.1366 - val_accuracy: 0.9835 - 2s/epoch - 3ms/step\n",
            "Epoch 77/100\n",
            "600/600 - 2s - loss: 0.0084 - accuracy: 0.9980 - val_loss: 0.1370 - val_accuracy: 0.9841 - 2s/epoch - 3ms/step\n",
            "Epoch 78/100\n",
            "600/600 - 2s - loss: 0.0087 - accuracy: 0.9979 - val_loss: 0.1447 - val_accuracy: 0.9834 - 2s/epoch - 4ms/step\n",
            "Epoch 79/100\n",
            "600/600 - 2s - loss: 0.0099 - accuracy: 0.9979 - val_loss: 0.1533 - val_accuracy: 0.9857 - 2s/epoch - 3ms/step\n",
            "Epoch 80/100\n",
            "600/600 - 2s - loss: 0.0089 - accuracy: 0.9979 - val_loss: 0.1455 - val_accuracy: 0.9850 - 2s/epoch - 3ms/step\n",
            "Epoch 81/100\n",
            "600/600 - 2s - loss: 0.0105 - accuracy: 0.9976 - val_loss: 0.1247 - val_accuracy: 0.9859 - 2s/epoch - 3ms/step\n",
            "Epoch 82/100\n",
            "600/600 - 2s - loss: 0.0070 - accuracy: 0.9980 - val_loss: 0.1424 - val_accuracy: 0.9852 - 2s/epoch - 3ms/step\n",
            "Epoch 83/100\n",
            "600/600 - 2s - loss: 0.0075 - accuracy: 0.9982 - val_loss: 0.1621 - val_accuracy: 0.9840 - 2s/epoch - 3ms/step\n",
            "Epoch 84/100\n",
            "600/600 - 2s - loss: 0.0118 - accuracy: 0.9973 - val_loss: 0.1522 - val_accuracy: 0.9828 - 2s/epoch - 4ms/step\n",
            "Epoch 85/100\n",
            "600/600 - 2s - loss: 0.0097 - accuracy: 0.9977 - val_loss: 0.1579 - val_accuracy: 0.9841 - 2s/epoch - 4ms/step\n",
            "Epoch 86/100\n",
            "600/600 - 2s - loss: 0.0086 - accuracy: 0.9980 - val_loss: 0.1305 - val_accuracy: 0.9851 - 2s/epoch - 3ms/step\n",
            "Epoch 87/100\n",
            "600/600 - 2s - loss: 0.0107 - accuracy: 0.9977 - val_loss: 0.1600 - val_accuracy: 0.9841 - 2s/epoch - 3ms/step\n",
            "Epoch 88/100\n",
            "600/600 - 2s - loss: 0.0101 - accuracy: 0.9976 - val_loss: 0.1540 - val_accuracy: 0.9844 - 2s/epoch - 3ms/step\n",
            "Epoch 89/100\n",
            "600/600 - 2s - loss: 0.0090 - accuracy: 0.9978 - val_loss: 0.1532 - val_accuracy: 0.9851 - 2s/epoch - 3ms/step\n",
            "Epoch 90/100\n",
            "600/600 - 2s - loss: 0.0115 - accuracy: 0.9975 - val_loss: 0.1564 - val_accuracy: 0.9828 - 2s/epoch - 4ms/step\n",
            "Epoch 91/100\n",
            "600/600 - 2s - loss: 0.0059 - accuracy: 0.9984 - val_loss: 0.1352 - val_accuracy: 0.9860 - 2s/epoch - 4ms/step\n",
            "Epoch 92/100\n",
            "600/600 - 2s - loss: 0.0082 - accuracy: 0.9980 - val_loss: 0.1370 - val_accuracy: 0.9858 - 2s/epoch - 3ms/step\n",
            "Epoch 93/100\n",
            "600/600 - 2s - loss: 0.0072 - accuracy: 0.9982 - val_loss: 0.1474 - val_accuracy: 0.9846 - 2s/epoch - 3ms/step\n",
            "Epoch 94/100\n",
            "600/600 - 2s - loss: 0.0095 - accuracy: 0.9978 - val_loss: 0.1336 - val_accuracy: 0.9849 - 2s/epoch - 3ms/step\n",
            "Epoch 95/100\n",
            "600/600 - 2s - loss: 0.0090 - accuracy: 0.9980 - val_loss: 0.1611 - val_accuracy: 0.9830 - 2s/epoch - 3ms/step\n",
            "Epoch 96/100\n",
            "600/600 - 2s - loss: 0.0096 - accuracy: 0.9979 - val_loss: 0.1414 - val_accuracy: 0.9852 - 2s/epoch - 4ms/step\n",
            "Epoch 97/100\n",
            "600/600 - 2s - loss: 0.0092 - accuracy: 0.9980 - val_loss: 0.1528 - val_accuracy: 0.9839 - 2s/epoch - 4ms/step\n",
            "Epoch 98/100\n",
            "600/600 - 3s - loss: 0.0090 - accuracy: 0.9982 - val_loss: 0.1662 - val_accuracy: 0.9851 - 3s/epoch - 5ms/step\n",
            "Epoch 99/100\n",
            "600/600 - 2s - loss: 0.0069 - accuracy: 0.9984 - val_loss: 0.1730 - val_accuracy: 0.9845 - 2s/epoch - 3ms/step\n",
            "Epoch 100/100\n",
            "600/600 - 2s - loss: 0.0102 - accuracy: 0.9977 - val_loss: 0.1910 - val_accuracy: 0.9848 - 2s/epoch - 3ms/step\n"
          ]
        }
      ],
      "source": [
        "history= model1.fit(X_train, Y_train,\n",
        "                batch_size=100,\n",
        "                epochs=100,\n",
        "                verbose=2,\n",
        "                validation_data=(X_test,Y_test))"
      ]
    },
    {
      "cell_type": "code",
      "execution_count": null,
      "metadata": {
        "colab": {
          "base_uri": "https://localhost:8080/",
          "height": 312
        },
        "id": "PfnOEC5B8gPp",
        "outputId": "7aa9b73b-affc-457c-da68-d03f98aa3db9"
      },
      "outputs": [
        {
          "data": {
            "text/plain": [
              "<matplotlib.legend.Legend at 0x7f6684305100>"
            ]
          },
          "execution_count": 60,
          "metadata": {},
          "output_type": "execute_result"
        },
        {
          "data": {
            "image/png": "[encoded data removed]",
            "text/plain": [
              "<Figure size 432x288 with 1 Axes>"
            ]
          },
          "metadata": {
            "needs_background": "light"
          },
          "output_type": "display_data"
        }
      ],
      "source": [
        "val_acc=history.history['val_accuracy']\n",
        "acc=history.history['accuracy']\n",
        "epochs=range(1,len(acc)+1)\n",
        "plt.plot(epochs,acc,'b')\n",
        "plt.plot(epochs, val_acc, 'r-')\n",
        "plt.title('Model Accuracy')\n",
        "plt.xlabel('Epochs')\n",
        "plt.ylabel('Accuracy')\n",
        "plt.legend(['Train','validation'])"
      ]
    },
    {
      "cell_type": "code",
      "execution_count": null,
      "metadata": {
        "colab": {
          "base_uri": "https://localhost:8080/",
          "height": 312
        },
        "id": "RMCkr8RJ9WXx",
        "outputId": "5327cd3c-eff7-4ea2-9976-6ccd6f970326"
      },
      "outputs": [
        {
          "data": {
            "text/plain": [
              "<matplotlib.legend.Legend at 0x7f66842ee490>"
            ]
          },
          "execution_count": 61,
          "metadata": {},
          "output_type": "execute_result"
        },
        {
          "data": {
            "image/png": "[encoded data removed]",
            "text/plain": [
              "<Figure size 432x288 with 1 Axes>"
            ]
          },
          "metadata": {
            "needs_background": "light"
          },
          "output_type": "display_data"
        }
      ],
      "source": [
        "plt.plot(history.history['loss'])\n",
        "plt.plot(history.history['val_loss'])\n",
        "plt.title(\"model loss\")\n",
        "plt.ylabel(\"loss\")\n",
        "plt.xlabel(\"epoch\")\n",
        "plt.legend(['train','validation'],loc='upper left')"
      ]
    }
  ],
  "metadata": {
    "accelerator": "GPU",
    "colab": {
      "provenance": []
    },
    "gpuClass": "standard",
    "kernelspec": {
      "display_name": "Python 3",
      "language": "python",
      "name": "python3"
    },
    "language_info": {
      "name": "python",
      "version": "3.11.0"
    },
    "vscode": {
      "interpreter": {
        "hash": "c261aea317cc0286b3b3261fbba9abdec21eaa57589985bb7a274bf54d6cc0a7"
      }
    }
  },
  "nbformat": 4,
  "nbformat_minor": 0
}
