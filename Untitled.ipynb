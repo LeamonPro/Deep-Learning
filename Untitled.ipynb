{
 "cells": [
  {
   "cell_type": "code",
   "execution_count": 1,
   "id": "c22766ed",
   "metadata": {},
   "outputs": [],
   "source": [
    "import pandas as pd\n",
    "import numpy as np"
   ]
  },
  {
   "cell_type": "code",
   "execution_count": 2,
   "id": "193ff0af",
   "metadata": {},
   "outputs": [],
   "source": [
    "df=pd.read_csv(\"50_Startups.csv\")"
   ]
  },
  {
   "cell_type": "code",
   "execution_count": 3,
   "id": "2d28578d",
   "metadata": {},
   "outputs": [
    {
     "data": {
      "text/html": [
       "<div>\n",
       "<style scoped>\n",
       "    .dataframe tbody tr th:only-of-type {\n",
       "        vertical-align: middle;\n",
       "    }\n",
       "\n",
       "    .dataframe tbody tr th {\n",
       "        vertical-align: top;\n",
       "    }\n",
       "\n",
       "    .dataframe thead th {\n",
       "        text-align: right;\n",
       "    }\n",
       "</style>\n",
       "<table border=\"1\" class=\"dataframe\">\n",
       "  <thead>\n",
       "    <tr style=\"text-align: right;\">\n",
       "      <th></th>\n",
       "      <th>R&amp;D Spend</th>\n",
       "      <th>Administration</th>\n",
       "      <th>Marketing Spend</th>\n",
       "      <th>State</th>\n",
       "      <th>Profit</th>\n",
       "    </tr>\n",
       "  </thead>\n",
       "  <tbody>\n",
       "    <tr>\n",
       "      <th>0</th>\n",
       "      <td>165349.20</td>\n",
       "      <td>136897.80</td>\n",
       "      <td>471784.10</td>\n",
       "      <td>New York</td>\n",
       "      <td>192261.83</td>\n",
       "    </tr>\n",
       "    <tr>\n",
       "      <th>1</th>\n",
       "      <td>162597.70</td>\n",
       "      <td>151377.59</td>\n",
       "      <td>443898.53</td>\n",
       "      <td>California</td>\n",
       "      <td>191792.06</td>\n",
       "    </tr>\n",
       "    <tr>\n",
       "      <th>2</th>\n",
       "      <td>153441.51</td>\n",
       "      <td>101145.55</td>\n",
       "      <td>407934.54</td>\n",
       "      <td>Florida</td>\n",
       "      <td>191050.39</td>\n",
       "    </tr>\n",
       "    <tr>\n",
       "      <th>3</th>\n",
       "      <td>144372.41</td>\n",
       "      <td>118671.85</td>\n",
       "      <td>383199.62</td>\n",
       "      <td>New York</td>\n",
       "      <td>182901.99</td>\n",
       "    </tr>\n",
       "    <tr>\n",
       "      <th>4</th>\n",
       "      <td>142107.34</td>\n",
       "      <td>91391.77</td>\n",
       "      <td>366168.42</td>\n",
       "      <td>Florida</td>\n",
       "      <td>166187.94</td>\n",
       "    </tr>\n",
       "  </tbody>\n",
       "</table>\n",
       "</div>"
      ],
      "text/plain": [
       "   R&D Spend  Administration  Marketing Spend       State     Profit\n",
       "0  165349.20       136897.80        471784.10    New York  192261.83\n",
       "1  162597.70       151377.59        443898.53  California  191792.06\n",
       "2  153441.51       101145.55        407934.54     Florida  191050.39\n",
       "3  144372.41       118671.85        383199.62    New York  182901.99\n",
       "4  142107.34        91391.77        366168.42     Florida  166187.94"
      ]
     },
     "execution_count": 3,
     "metadata": {},
     "output_type": "execute_result"
    }
   ],
   "source": [
    "df.head()"
   ]
  },
  {
   "cell_type": "code",
   "execution_count": 5,
   "id": "72d5a1e2",
   "metadata": {},
   "outputs": [
    {
     "data": {
      "text/html": [
       "<div>\n",
       "<style scoped>\n",
       "    .dataframe tbody tr th:only-of-type {\n",
       "        vertical-align: middle;\n",
       "    }\n",
       "\n",
       "    .dataframe tbody tr th {\n",
       "        vertical-align: top;\n",
       "    }\n",
       "\n",
       "    .dataframe thead th {\n",
       "        text-align: right;\n",
       "    }\n",
       "</style>\n",
       "<table border=\"1\" class=\"dataframe\">\n",
       "  <thead>\n",
       "    <tr style=\"text-align: right;\">\n",
       "      <th></th>\n",
       "      <th>R&amp;D Spend</th>\n",
       "      <th>Administration</th>\n",
       "      <th>Marketing Spend</th>\n",
       "      <th>Profit</th>\n",
       "    </tr>\n",
       "  </thead>\n",
       "  <tbody>\n",
       "    <tr>\n",
       "      <th>count</th>\n",
       "      <td>50.000000</td>\n",
       "      <td>50.000000</td>\n",
       "      <td>50.000000</td>\n",
       "      <td>50.000000</td>\n",
       "    </tr>\n",
       "    <tr>\n",
       "      <th>mean</th>\n",
       "      <td>73721.615600</td>\n",
       "      <td>121344.639600</td>\n",
       "      <td>211025.097800</td>\n",
       "      <td>112012.639200</td>\n",
       "    </tr>\n",
       "    <tr>\n",
       "      <th>std</th>\n",
       "      <td>45902.256482</td>\n",
       "      <td>28017.802755</td>\n",
       "      <td>122290.310726</td>\n",
       "      <td>40306.180338</td>\n",
       "    </tr>\n",
       "    <tr>\n",
       "      <th>min</th>\n",
       "      <td>0.000000</td>\n",
       "      <td>51283.140000</td>\n",
       "      <td>0.000000</td>\n",
       "      <td>14681.400000</td>\n",
       "    </tr>\n",
       "    <tr>\n",
       "      <th>25%</th>\n",
       "      <td>39936.370000</td>\n",
       "      <td>103730.875000</td>\n",
       "      <td>129300.132500</td>\n",
       "      <td>90138.902500</td>\n",
       "    </tr>\n",
       "    <tr>\n",
       "      <th>50%</th>\n",
       "      <td>73051.080000</td>\n",
       "      <td>122699.795000</td>\n",
       "      <td>212716.240000</td>\n",
       "      <td>107978.190000</td>\n",
       "    </tr>\n",
       "    <tr>\n",
       "      <th>75%</th>\n",
       "      <td>101602.800000</td>\n",
       "      <td>144842.180000</td>\n",
       "      <td>299469.085000</td>\n",
       "      <td>139765.977500</td>\n",
       "    </tr>\n",
       "    <tr>\n",
       "      <th>max</th>\n",
       "      <td>165349.200000</td>\n",
       "      <td>182645.560000</td>\n",
       "      <td>471784.100000</td>\n",
       "      <td>192261.830000</td>\n",
       "    </tr>\n",
       "  </tbody>\n",
       "</table>\n",
       "</div>"
      ],
      "text/plain": [
       "           R&D Spend  Administration  Marketing Spend         Profit\n",
       "count      50.000000       50.000000        50.000000      50.000000\n",
       "mean    73721.615600   121344.639600    211025.097800  112012.639200\n",
       "std     45902.256482    28017.802755    122290.310726   40306.180338\n",
       "min         0.000000    51283.140000         0.000000   14681.400000\n",
       "25%     39936.370000   103730.875000    129300.132500   90138.902500\n",
       "50%     73051.080000   122699.795000    212716.240000  107978.190000\n",
       "75%    101602.800000   144842.180000    299469.085000  139765.977500\n",
       "max    165349.200000   182645.560000    471784.100000  192261.830000"
      ]
     },
     "execution_count": 5,
     "metadata": {},
     "output_type": "execute_result"
    }
   ],
   "source": [
    "df.describe()"
   ]
  },
  {
   "cell_type": "code",
   "execution_count": 6,
   "id": "33d5e3e2",
   "metadata": {},
   "outputs": [
    {
     "data": {
      "text/plain": [
       "R&D Spend          0\n",
       "Administration     0\n",
       "Marketing Spend    0\n",
       "State              0\n",
       "Profit             0\n",
       "dtype: int64"
      ]
     },
     "execution_count": 6,
     "metadata": {},
     "output_type": "execute_result"
    }
   ],
   "source": [
    "df.isna().sum()"
   ]
  },
  {
   "cell_type": "code",
   "execution_count": 8,
   "id": "f4912cb5",
   "metadata": {},
   "outputs": [
    {
     "data": {
      "text/plain": [
       "0"
      ]
     },
     "execution_count": 8,
     "metadata": {},
     "output_type": "execute_result"
    }
   ],
   "source": [
    "df.duplicated().sum()"
   ]
  },
  {
   "cell_type": "code",
   "execution_count": 9,
   "id": "aff420bf",
   "metadata": {},
   "outputs": [],
   "source": [
    "X=df.iloc[:,:-1]\n",
    "Y=df.iloc[:,-1]"
   ]
  },
  {
   "cell_type": "code",
   "execution_count": 10,
   "id": "e275a227",
   "metadata": {},
   "outputs": [],
   "source": [
    "X=pd.get_dummies(X,drop_first=True)"
   ]
  },
  {
   "cell_type": "code",
   "execution_count": 11,
   "id": "5aa069c0",
   "metadata": {},
   "outputs": [],
   "source": [
    "from sklearn.model_selection import train_test_split\n",
    "X_train, X_test, Y_train, Y_test=train_test_split(X,Y,test_size=0.2)"
   ]
  },
  {
   "cell_type": "code",
   "execution_count": 12,
   "id": "55fe1f0e",
   "metadata": {},
   "outputs": [
    {
     "data": {
      "text/html": [
       "<div>\n",
       "<style scoped>\n",
       "    .dataframe tbody tr th:only-of-type {\n",
       "        vertical-align: middle;\n",
       "    }\n",
       "\n",
       "    .dataframe tbody tr th {\n",
       "        vertical-align: top;\n",
       "    }\n",
       "\n",
       "    .dataframe thead th {\n",
       "        text-align: right;\n",
       "    }\n",
       "</style>\n",
       "<table border=\"1\" class=\"dataframe\">\n",
       "  <thead>\n",
       "    <tr style=\"text-align: right;\">\n",
       "      <th></th>\n",
       "      <th>R&amp;D Spend</th>\n",
       "      <th>Administration</th>\n",
       "      <th>Marketing Spend</th>\n",
       "      <th>State_Florida</th>\n",
       "      <th>State_New York</th>\n",
       "    </tr>\n",
       "  </thead>\n",
       "  <tbody>\n",
       "    <tr>\n",
       "      <th>25</th>\n",
       "      <td>-0.223090</td>\n",
       "      <td>0.707946</td>\n",
       "      <td>-0.583119</td>\n",
       "      <td>0</td>\n",
       "      <td>0</td>\n",
       "    </tr>\n",
       "    <tr>\n",
       "      <th>5</th>\n",
       "      <td>1.248364</td>\n",
       "      <td>-0.900686</td>\n",
       "      <td>1.297158</td>\n",
       "      <td>0</td>\n",
       "      <td>1</td>\n",
       "    </tr>\n",
       "    <tr>\n",
       "      <th>16</th>\n",
       "      <td>0.069142</td>\n",
       "      <td>-0.018906</td>\n",
       "      <td>0.473516</td>\n",
       "      <td>0</td>\n",
       "      <td>0</td>\n",
       "    </tr>\n",
       "    <tr>\n",
       "      <th>29</th>\n",
       "      <td>-0.202494</td>\n",
       "      <td>1.253578</td>\n",
       "      <td>-0.840827</td>\n",
       "      <td>0</td>\n",
       "      <td>1</td>\n",
       "    </tr>\n",
       "    <tr>\n",
       "      <th>12</th>\n",
       "      <td>0.416154</td>\n",
       "      <td>0.212757</td>\n",
       "      <td>0.352233</td>\n",
       "      <td>1</td>\n",
       "      <td>0</td>\n",
       "    </tr>\n",
       "  </tbody>\n",
       "</table>\n",
       "</div>"
      ],
      "text/plain": [
       "    R&D Spend  Administration  Marketing Spend  State_Florida  State_New York\n",
       "25  -0.223090        0.707946        -0.583119              0               0\n",
       "5    1.248364       -0.900686         1.297158              0               1\n",
       "16   0.069142       -0.018906         0.473516              0               0\n",
       "29  -0.202494        1.253578        -0.840827              0               1\n",
       "12   0.416154        0.212757         0.352233              1               0"
      ]
     },
     "execution_count": 12,
     "metadata": {},
     "output_type": "execute_result"
    }
   ],
   "source": [
    "from sklearn.preprocessing import StandardScaler\n",
    "sc=StandardScaler()\n",
    "sc.fit(X_train.iloc[:,:-2])\n",
    "X_train.iloc[:,:-2]=sc.transform(X_train.iloc[:,:-2])\n",
    "X_train.head()"
   ]
  },
  {
   "cell_type": "code",
   "execution_count": 13,
   "id": "300845c7",
   "metadata": {},
   "outputs": [
    {
     "data": {
      "text/html": [
       "<div>\n",
       "<style scoped>\n",
       "    .dataframe tbody tr th:only-of-type {\n",
       "        vertical-align: middle;\n",
       "    }\n",
       "\n",
       "    .dataframe tbody tr th {\n",
       "        vertical-align: top;\n",
       "    }\n",
       "\n",
       "    .dataframe thead th {\n",
       "        text-align: right;\n",
       "    }\n",
       "</style>\n",
       "<table border=\"1\" class=\"dataframe\">\n",
       "  <thead>\n",
       "    <tr style=\"text-align: right;\">\n",
       "      <th></th>\n",
       "      <th>R&amp;D Spend</th>\n",
       "      <th>Administration</th>\n",
       "      <th>Marketing Spend</th>\n",
       "      <th>State_Florida</th>\n",
       "      <th>State_New York</th>\n",
       "    </tr>\n",
       "  </thead>\n",
       "  <tbody>\n",
       "    <tr>\n",
       "      <th>7</th>\n",
       "      <td>1.213800</td>\n",
       "      <td>0.949894</td>\n",
       "      <td>0.971225</td>\n",
       "      <td>1</td>\n",
       "      <td>0</td>\n",
       "    </tr>\n",
       "    <tr>\n",
       "      <th>38</th>\n",
       "      <td>-1.195894</td>\n",
       "      <td>-2.271630</td>\n",
       "      <td>-0.187644</td>\n",
       "      <td>0</td>\n",
       "      <td>1</td>\n",
       "    </tr>\n",
       "    <tr>\n",
       "      <th>37</th>\n",
       "      <td>-0.673965</td>\n",
       "      <td>-2.865267</td>\n",
       "      <td>-0.089288</td>\n",
       "      <td>0</td>\n",
       "      <td>0</td>\n",
       "    </tr>\n",
       "    <tr>\n",
       "      <th>28</th>\n",
       "      <td>-0.192729</td>\n",
       "      <td>2.452347</td>\n",
       "      <td>-0.748778</td>\n",
       "      <td>1</td>\n",
       "      <td>0</td>\n",
       "    </tr>\n",
       "    <tr>\n",
       "      <th>27</th>\n",
       "      <td>-0.060146</td>\n",
       "      <td>0.234785</td>\n",
       "      <td>1.216248</td>\n",
       "      <td>0</td>\n",
       "      <td>1</td>\n",
       "    </tr>\n",
       "  </tbody>\n",
       "</table>\n",
       "</div>"
      ],
      "text/plain": [
       "    R&D Spend  Administration  Marketing Spend  State_Florida  State_New York\n",
       "7    1.213800        0.949894         0.971225              1               0\n",
       "38  -1.195894       -2.271630        -0.187644              0               1\n",
       "37  -0.673965       -2.865267        -0.089288              0               0\n",
       "28  -0.192729        2.452347        -0.748778              1               0\n",
       "27  -0.060146        0.234785         1.216248              0               1"
      ]
     },
     "execution_count": 13,
     "metadata": {},
     "output_type": "execute_result"
    }
   ],
   "source": [
    "X_test.iloc[:,:-2]=sc.transform(X_test.iloc[:,:-2])\n",
    "X_test.head()"
   ]
  },
  {
   "cell_type": "code",
   "execution_count": 63,
   "id": "3af644f6",
   "metadata": {},
   "outputs": [],
   "source": [
    "import keras\n",
    "from keras.models import Sequential\n",
    "from keras.layers import Dense"
   ]
  },
  {
   "cell_type": "code",
   "execution_count": 64,
   "id": "11947427",
   "metadata": {},
   "outputs": [],
   "source": [
    "model=Sequential()"
   ]
  },
  {
   "cell_type": "code",
   "execution_count": 65,
   "id": "42e2b85d",
   "metadata": {},
   "outputs": [],
   "source": [
    "model.add(Dense(units=4,activation='relu',kernel_initializer='normal',input_dim=5))"
   ]
  },
  {
   "cell_type": "code",
   "execution_count": 67,
   "id": "5e542a8c",
   "metadata": {},
   "outputs": [],
   "source": [
    "model.add(Dense(units=4,activation='tanh',kernel_initializer='normal'))"
   ]
  },
  {
   "cell_type": "code",
   "execution_count": 68,
   "id": "16fdff67",
   "metadata": {},
   "outputs": [],
   "source": [
    "model.add(Dense(units=1,kernel_initializer='normal'))"
   ]
  },
  {
   "cell_type": "code",
   "execution_count": 69,
   "id": "48dfba10",
   "metadata": {},
   "outputs": [],
   "source": [
    "model.compile(optimizer='adam',loss='mean_squared_error',metrics=[\"accuracy\"])"
   ]
  },
  {
   "cell_type": "code",
   "execution_count": 70,
   "id": "e4f5e6ee",
   "metadata": {},
   "outputs": [
    {
     "name": "stdout",
     "output_type": "stream",
     "text": [
      "Epoch 1/30\n",
      "4/4 [==============================] - 1s 4ms/step - loss: 14280214528.0000 - accuracy: 0.0000e+00\n",
      "Epoch 2/30\n",
      "4/4 [==============================] - 0s 4ms/step - loss: 14280210432.0000 - accuracy: 0.0000e+00\n",
      "Epoch 3/30\n",
      "4/4 [==============================] - 0s 7ms/step - loss: 14280209408.0000 - accuracy: 0.0000e+00\n",
      "Epoch 4/30\n",
      "4/4 [==============================] - 0s 6ms/step - loss: 14280209408.0000 - accuracy: 0.0000e+00\n",
      "Epoch 5/30\n",
      "4/4 [==============================] - 0s 5ms/step - loss: 14280207360.0000 - accuracy: 0.0000e+00\n",
      "Epoch 6/30\n",
      "4/4 [==============================] - 0s 5ms/step - loss: 14280206336.0000 - accuracy: 0.0000e+00\n",
      "Epoch 7/30\n",
      "4/4 [==============================] - 0s 6ms/step - loss: 14280206336.0000 - accuracy: 0.0000e+00\n",
      "Epoch 8/30\n",
      "4/4 [==============================] - 0s 5ms/step - loss: 14280204288.0000 - accuracy: 0.0000e+00\n",
      "Epoch 9/30\n",
      "4/4 [==============================] - 0s 6ms/step - loss: 14280202240.0000 - accuracy: 0.0000e+00\n",
      "Epoch 10/30\n",
      "4/4 [==============================] - 0s 4ms/step - loss: 14280201216.0000 - accuracy: 0.0000e+00\n",
      "Epoch 11/30\n",
      "4/4 [==============================] - 0s 6ms/step - loss: 14280199168.0000 - accuracy: 0.0000e+00\n",
      "Epoch 12/30\n",
      "4/4 [==============================] - 0s 6ms/step - loss: 14280198144.0000 - accuracy: 0.0000e+00\n",
      "Epoch 13/30\n",
      "4/4 [==============================] - 0s 6ms/step - loss: 14280196096.0000 - accuracy: 0.0000e+00\n",
      "Epoch 14/30\n",
      "4/4 [==============================] - 0s 5ms/step - loss: 14280194048.0000 - accuracy: 0.0000e+00\n",
      "Epoch 15/30\n",
      "4/4 [==============================] - 0s 5ms/step - loss: 14280190976.0000 - accuracy: 0.0000e+00\n",
      "Epoch 16/30\n",
      "4/4 [==============================] - 0s 6ms/step - loss: 14280189952.0000 - accuracy: 0.0000e+00\n",
      "Epoch 17/30\n",
      "4/4 [==============================] - 0s 5ms/step - loss: 14280185856.0000 - accuracy: 0.0000e+00\n",
      "Epoch 18/30\n",
      "4/4 [==============================] - 0s 5ms/step - loss: 14280182784.0000 - accuracy: 0.0000e+00\n",
      "Epoch 19/30\n",
      "4/4 [==============================] - 0s 5ms/step - loss: 14280179712.0000 - accuracy: 0.0000e+00\n",
      "Epoch 20/30\n",
      "4/4 [==============================] - 0s 5ms/step - loss: 14280176640.0000 - accuracy: 0.0000e+00\n",
      "Epoch 21/30\n",
      "4/4 [==============================] - 0s 5ms/step - loss: 14280173568.0000 - accuracy: 0.0000e+00\n",
      "Epoch 22/30\n",
      "4/4 [==============================] - 0s 5ms/step - loss: 14280168448.0000 - accuracy: 0.0000e+00\n",
      "Epoch 23/30\n",
      "4/4 [==============================] - 0s 5ms/step - loss: 14280165376.0000 - accuracy: 0.0000e+00\n",
      "Epoch 24/30\n",
      "4/4 [==============================] - 0s 5ms/step - loss: 14280160256.0000 - accuracy: 0.0000e+00\n",
      "Epoch 25/30\n",
      "4/4 [==============================] - 0s 5ms/step - loss: 14280153088.0000 - accuracy: 0.0000e+00\n",
      "Epoch 26/30\n",
      "4/4 [==============================] - 0s 7ms/step - loss: 14280150016.0000 - accuracy: 0.0000e+00\n",
      "Epoch 27/30\n",
      "4/4 [==============================] - 0s 7ms/step - loss: 14280143872.0000 - accuracy: 0.0000e+00\n",
      "Epoch 28/30\n",
      "4/4 [==============================] - 0s 5ms/step - loss: 14280136704.0000 - accuracy: 0.0000e+00\n",
      "Epoch 29/30\n",
      "4/4 [==============================] - 0s 5ms/step - loss: 14280130560.0000 - accuracy: 0.0000e+00\n",
      "Epoch 30/30\n",
      "4/4 [==============================] - 0s 6ms/step - loss: 14280124416.0000 - accuracy: 0.0000e+00\n"
     ]
    },
    {
     "data": {
      "text/plain": [
       "<keras.callbacks.History at 0x162ca8daac0>"
      ]
     },
     "execution_count": 70,
     "metadata": {},
     "output_type": "execute_result"
    }
   ],
   "source": [
    "model.fit(X_train,Y_train,batch_size=10,epochs=30,verbose=1)"
   ]
  },
  {
   "cell_type": "code",
   "execution_count": null,
   "id": "02fd2d33",
   "metadata": {},
   "outputs": [],
   "source": []
  }
 ],
 "metadata": {
  "kernelspec": {
   "display_name": "Python 3 (ipykernel)",
   "language": "python",
   "name": "python3"
  },
  "language_info": {
   "codemirror_mode": {
    "name": "ipython",
    "version": 3
   },
   "file_extension": ".py",
   "mimetype": "text/x-python",
   "name": "python",
   "nbconvert_exporter": "python",
   "pygments_lexer": "ipython3",
   "version": "3.9.13"
  }
 },
 "nbformat": 4,
 "nbformat_minor": 5
}
